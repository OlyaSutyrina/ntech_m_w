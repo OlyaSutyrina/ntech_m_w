{
 "cells": [
  {
   "cell_type": "code",
   "execution_count": 3,
   "metadata": {},
   "outputs": [],
   "source": [
    "def findMaxSubArray(A):\n",
    "\n",
    "    elem = A[0]\n",
    "    left = 0\n",
    "    right = 0\n",
    "    total = 0\n",
    "    step = -1\n",
    "\n",
    "    for i in range(1, len(A)):\n",
    "        total += A[i]\n",
    "        if total > elem:\n",
    "            elem = total\n",
    "            left = step + 1\n",
    "            right = i\n",
    "\n",
    "        if total < 0:\n",
    "            total = 0\n",
    "            step = i   \n",
    "            \n",
    "    return A[left:right+1]"
   ]
  },
  {
   "cell_type": "code",
   "execution_count": 4,
   "metadata": {},
   "outputs": [
    {
     "data": {
      "text/plain": [
       "[4, -1, 2, 1]"
      ]
     },
     "execution_count": 4,
     "metadata": {},
     "output_type": "execute_result"
    }
   ],
   "source": [
    "a = [-2,1,-3,4,-1,2,1,-5,4]\n",
    "findMaxSubArray(a)"
   ]
  },
  {
   "cell_type": "code",
   "execution_count": null,
   "metadata": {},
   "outputs": [],
   "source": []
  }
 ],
 "metadata": {
  "kernelspec": {
   "display_name": "Python 3",
   "language": "python",
   "name": "python3"
  },
  "language_info": {
   "codemirror_mode": {
    "name": "ipython",
    "version": 3
   },
   "file_extension": ".py",
   "mimetype": "text/x-python",
   "name": "python",
   "nbconvert_exporter": "python",
   "pygments_lexer": "ipython3",
   "version": "3.7.2"
  }
 },
 "nbformat": 4,
 "nbformat_minor": 4
}
